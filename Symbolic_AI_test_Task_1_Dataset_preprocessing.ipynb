{
  "nbformat": 4,
  "nbformat_minor": 0,
  "metadata": {
    "colab": {
      "provenance": [],
      "authorship_tag": "ABX9TyPccv+pozW2WPU9kW596BvM",
      "include_colab_link": true
    },
    "kernelspec": {
      "name": "python3",
      "display_name": "Python 3"
    },
    "language_info": {
      "name": "python"
    }
  },
  "cells": [
    {
      "cell_type": "markdown",
      "metadata": {
        "id": "view-in-github",
        "colab_type": "text"
      },
      "source": [
        "<a href=\"https://colab.research.google.com/github/Devdeep-J-S/Symbolic-AI-Test/blob/main/Symbolic_AI_test_Task_1_Dataset_preprocessing.ipynb\" target=\"_parent\"><img src=\"https://colab.research.google.com/assets/colab-badge.svg\" alt=\"Open In Colab\"/></a>"
      ]
    },
    {
      "cell_type": "markdown",
      "source": [
        "Name : Devdeep Shetranjiwala <br>\n",
        "Email ID : devdeep0702@gmail.com "
      ],
      "metadata": {
        "id": "A5Sm41KhJCGz"
      }
    },
    {
      "cell_type": "markdown",
      "source": [
        "## Symbolic AI test: Task 1. Dataset preprocessing "
      ],
      "metadata": {
        "id": "bQTjvsurJEi0"
      }
    },
    {
      "cell_type": "markdown",
      "source": [
        "This will generate a dataset of tuples, where each tuple contains the original function and its Taylor expansion up to fourth order as strings."
      ],
      "metadata": {
        "id": "sNpQ8_9tI7P8"
      }
    },
    {
      "cell_type": "code",
      "execution_count": 1,
      "metadata": {
        "id": "RoidHe4pWZOo",
        "colab": {
          "base_uri": "https://localhost:8080/"
        },
        "outputId": "1307f4a2-4b0c-48ce-d62e-fd7f8349eaab"
      },
      "outputs": [
        {
          "output_type": "stream",
          "name": "stdout",
          "text": [
            "[('sin(x)', '-x**3/6 + x'), ('cos(x)', 'x**4/24 - x**2/2 + 1'), ('exp(x)', 'x**4/24 + x**3/6 + x**2/2 + x + 1')]\n"
          ]
        }
      ],
      "source": [
        "import sympy\n",
        "\n",
        "# Define the variable x\n",
        "x = sympy.Symbol('x')\n",
        "\n",
        "# Define a list of functions to generate the dataset from\n",
        "functions = [sympy.sin(x), sympy.cos(x), sympy.exp(x)]\n",
        "\n",
        "# Initialize an empty list to store the dataset\n",
        "dataset = []\n",
        "\n",
        "# Loop through each function in the list\n",
        "for function in functions:\n",
        "    # Compute the Taylor expansion up to fourth order\n",
        "    taylor_expansion = function.series(x, 0, 5).removeO()\n",
        "    # Convert the Taylor expansion to a string and add it to the dataset\n",
        "    dataset.append((str(function), str(taylor_expansion)))\n",
        "\n",
        "# Print the dataset\n",
        "print(dataset)"
      ]
    },
    {
      "cell_type": "markdown",
      "source": [
        "To tokenize the dataset, you can use Python's built-in tokenizer module. Here's an example of how to tokenize the dataset:"
      ],
      "metadata": {
        "id": "CK6trwLSJLz1"
      }
    },
    {
      "cell_type": "code",
      "source": [
        "import tokenize\n",
        "import io\n",
        "# Loop through each tuple in the dataset\n",
        "for function, taylor_expansion in dataset:\n",
        "    # Tokenize the function string and print the tokens\n",
        "    print(function)\n",
        "    for token in tokenize.generate_tokens(io.StringIO(function).readline):\n",
        "        print(token)\n",
        "    # Tokenize the Taylor expansion string and print the tokens\n",
        "    print(taylor_expansion)\n",
        "    for token in tokenize.generate_tokens(io.StringIO(taylor_expansion).readline):\n",
        "        print(token)\n"
      ],
      "metadata": {
        "colab": {
          "base_uri": "https://localhost:8080/"
        },
        "id": "vQgn7MX1JNkq",
        "outputId": "3be511c6-28a9-4c8e-a115-205ed6fa70ec"
      },
      "execution_count": 2,
      "outputs": [
        {
          "output_type": "stream",
          "name": "stdout",
          "text": [
            "sin(x)\n",
            "TokenInfo(type=1 (NAME), string='sin', start=(1, 0), end=(1, 3), line='sin(x)')\n",
            "TokenInfo(type=54 (OP), string='(', start=(1, 3), end=(1, 4), line='sin(x)')\n",
            "TokenInfo(type=1 (NAME), string='x', start=(1, 4), end=(1, 5), line='sin(x)')\n",
            "TokenInfo(type=54 (OP), string=')', start=(1, 5), end=(1, 6), line='sin(x)')\n",
            "TokenInfo(type=4 (NEWLINE), string='', start=(1, 6), end=(1, 7), line='')\n",
            "TokenInfo(type=0 (ENDMARKER), string='', start=(2, 0), end=(2, 0), line='')\n",
            "-x**3/6 + x\n",
            "TokenInfo(type=54 (OP), string='-', start=(1, 0), end=(1, 1), line='-x**3/6 + x')\n",
            "TokenInfo(type=1 (NAME), string='x', start=(1, 1), end=(1, 2), line='-x**3/6 + x')\n",
            "TokenInfo(type=54 (OP), string='**', start=(1, 2), end=(1, 4), line='-x**3/6 + x')\n",
            "TokenInfo(type=2 (NUMBER), string='3', start=(1, 4), end=(1, 5), line='-x**3/6 + x')\n",
            "TokenInfo(type=54 (OP), string='/', start=(1, 5), end=(1, 6), line='-x**3/6 + x')\n",
            "TokenInfo(type=2 (NUMBER), string='6', start=(1, 6), end=(1, 7), line='-x**3/6 + x')\n",
            "TokenInfo(type=54 (OP), string='+', start=(1, 8), end=(1, 9), line='-x**3/6 + x')\n",
            "TokenInfo(type=1 (NAME), string='x', start=(1, 10), end=(1, 11), line='-x**3/6 + x')\n",
            "TokenInfo(type=4 (NEWLINE), string='', start=(1, 11), end=(1, 12), line='')\n",
            "TokenInfo(type=0 (ENDMARKER), string='', start=(2, 0), end=(2, 0), line='')\n",
            "cos(x)\n",
            "TokenInfo(type=1 (NAME), string='cos', start=(1, 0), end=(1, 3), line='cos(x)')\n",
            "TokenInfo(type=54 (OP), string='(', start=(1, 3), end=(1, 4), line='cos(x)')\n",
            "TokenInfo(type=1 (NAME), string='x', start=(1, 4), end=(1, 5), line='cos(x)')\n",
            "TokenInfo(type=54 (OP), string=')', start=(1, 5), end=(1, 6), line='cos(x)')\n",
            "TokenInfo(type=4 (NEWLINE), string='', start=(1, 6), end=(1, 7), line='')\n",
            "TokenInfo(type=0 (ENDMARKER), string='', start=(2, 0), end=(2, 0), line='')\n",
            "x**4/24 - x**2/2 + 1\n",
            "TokenInfo(type=1 (NAME), string='x', start=(1, 0), end=(1, 1), line='x**4/24 - x**2/2 + 1')\n",
            "TokenInfo(type=54 (OP), string='**', start=(1, 1), end=(1, 3), line='x**4/24 - x**2/2 + 1')\n",
            "TokenInfo(type=2 (NUMBER), string='4', start=(1, 3), end=(1, 4), line='x**4/24 - x**2/2 + 1')\n",
            "TokenInfo(type=54 (OP), string='/', start=(1, 4), end=(1, 5), line='x**4/24 - x**2/2 + 1')\n",
            "TokenInfo(type=2 (NUMBER), string='24', start=(1, 5), end=(1, 7), line='x**4/24 - x**2/2 + 1')\n",
            "TokenInfo(type=54 (OP), string='-', start=(1, 8), end=(1, 9), line='x**4/24 - x**2/2 + 1')\n",
            "TokenInfo(type=1 (NAME), string='x', start=(1, 10), end=(1, 11), line='x**4/24 - x**2/2 + 1')\n",
            "TokenInfo(type=54 (OP), string='**', start=(1, 11), end=(1, 13), line='x**4/24 - x**2/2 + 1')\n",
            "TokenInfo(type=2 (NUMBER), string='2', start=(1, 13), end=(1, 14), line='x**4/24 - x**2/2 + 1')\n",
            "TokenInfo(type=54 (OP), string='/', start=(1, 14), end=(1, 15), line='x**4/24 - x**2/2 + 1')\n",
            "TokenInfo(type=2 (NUMBER), string='2', start=(1, 15), end=(1, 16), line='x**4/24 - x**2/2 + 1')\n",
            "TokenInfo(type=54 (OP), string='+', start=(1, 17), end=(1, 18), line='x**4/24 - x**2/2 + 1')\n",
            "TokenInfo(type=2 (NUMBER), string='1', start=(1, 19), end=(1, 20), line='x**4/24 - x**2/2 + 1')\n",
            "TokenInfo(type=4 (NEWLINE), string='', start=(1, 20), end=(1, 21), line='')\n",
            "TokenInfo(type=0 (ENDMARKER), string='', start=(2, 0), end=(2, 0), line='')\n",
            "exp(x)\n",
            "TokenInfo(type=1 (NAME), string='exp', start=(1, 0), end=(1, 3), line='exp(x)')\n",
            "TokenInfo(type=54 (OP), string='(', start=(1, 3), end=(1, 4), line='exp(x)')\n",
            "TokenInfo(type=1 (NAME), string='x', start=(1, 4), end=(1, 5), line='exp(x)')\n",
            "TokenInfo(type=54 (OP), string=')', start=(1, 5), end=(1, 6), line='exp(x)')\n",
            "TokenInfo(type=4 (NEWLINE), string='', start=(1, 6), end=(1, 7), line='')\n",
            "TokenInfo(type=0 (ENDMARKER), string='', start=(2, 0), end=(2, 0), line='')\n",
            "x**4/24 + x**3/6 + x**2/2 + x + 1\n",
            "TokenInfo(type=1 (NAME), string='x', start=(1, 0), end=(1, 1), line='x**4/24 + x**3/6 + x**2/2 + x + 1')\n",
            "TokenInfo(type=54 (OP), string='**', start=(1, 1), end=(1, 3), line='x**4/24 + x**3/6 + x**2/2 + x + 1')\n",
            "TokenInfo(type=2 (NUMBER), string='4', start=(1, 3), end=(1, 4), line='x**4/24 + x**3/6 + x**2/2 + x + 1')\n",
            "TokenInfo(type=54 (OP), string='/', start=(1, 4), end=(1, 5), line='x**4/24 + x**3/6 + x**2/2 + x + 1')\n",
            "TokenInfo(type=2 (NUMBER), string='24', start=(1, 5), end=(1, 7), line='x**4/24 + x**3/6 + x**2/2 + x + 1')\n",
            "TokenInfo(type=54 (OP), string='+', start=(1, 8), end=(1, 9), line='x**4/24 + x**3/6 + x**2/2 + x + 1')\n",
            "TokenInfo(type=1 (NAME), string='x', start=(1, 10), end=(1, 11), line='x**4/24 + x**3/6 + x**2/2 + x + 1')\n",
            "TokenInfo(type=54 (OP), string='**', start=(1, 11), end=(1, 13), line='x**4/24 + x**3/6 + x**2/2 + x + 1')\n",
            "TokenInfo(type=2 (NUMBER), string='3', start=(1, 13), end=(1, 14), line='x**4/24 + x**3/6 + x**2/2 + x + 1')\n",
            "TokenInfo(type=54 (OP), string='/', start=(1, 14), end=(1, 15), line='x**4/24 + x**3/6 + x**2/2 + x + 1')\n",
            "TokenInfo(type=2 (NUMBER), string='6', start=(1, 15), end=(1, 16), line='x**4/24 + x**3/6 + x**2/2 + x + 1')\n",
            "TokenInfo(type=54 (OP), string='+', start=(1, 17), end=(1, 18), line='x**4/24 + x**3/6 + x**2/2 + x + 1')\n",
            "TokenInfo(type=1 (NAME), string='x', start=(1, 19), end=(1, 20), line='x**4/24 + x**3/6 + x**2/2 + x + 1')\n",
            "TokenInfo(type=54 (OP), string='**', start=(1, 20), end=(1, 22), line='x**4/24 + x**3/6 + x**2/2 + x + 1')\n",
            "TokenInfo(type=2 (NUMBER), string='2', start=(1, 22), end=(1, 23), line='x**4/24 + x**3/6 + x**2/2 + x + 1')\n",
            "TokenInfo(type=54 (OP), string='/', start=(1, 23), end=(1, 24), line='x**4/24 + x**3/6 + x**2/2 + x + 1')\n",
            "TokenInfo(type=2 (NUMBER), string='2', start=(1, 24), end=(1, 25), line='x**4/24 + x**3/6 + x**2/2 + x + 1')\n",
            "TokenInfo(type=54 (OP), string='+', start=(1, 26), end=(1, 27), line='x**4/24 + x**3/6 + x**2/2 + x + 1')\n",
            "TokenInfo(type=1 (NAME), string='x', start=(1, 28), end=(1, 29), line='x**4/24 + x**3/6 + x**2/2 + x + 1')\n",
            "TokenInfo(type=54 (OP), string='+', start=(1, 30), end=(1, 31), line='x**4/24 + x**3/6 + x**2/2 + x + 1')\n",
            "TokenInfo(type=2 (NUMBER), string='1', start=(1, 32), end=(1, 33), line='x**4/24 + x**3/6 + x**2/2 + x + 1')\n",
            "TokenInfo(type=4 (NEWLINE), string='', start=(1, 33), end=(1, 34), line='')\n",
            "TokenInfo(type=0 (ENDMARKER), string='', start=(2, 0), end=(2, 0), line='')\n"
          ]
        }
      ]
    },
    {
      "cell_type": "code",
      "source": [],
      "metadata": {
        "id": "TRtjMFzSJ3XZ"
      },
      "execution_count": null,
      "outputs": []
    }
  ]
}